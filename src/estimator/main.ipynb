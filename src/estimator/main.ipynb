{
 "cells": [
  {
   "cell_type": "code",
   "execution_count": 2,
   "metadata": {},
   "outputs": [],
   "source": [
    "import numpy as np\n",
    "from estimate import *\n",
    "\n",
    "def load_data(file_name):\n",
    "    arr = np.load(file_name)[:]\n",
    "    x = arr[:, 0]\n",
    "    y = arr[:, 1]\n",
    "    return np.concatenate((x[:, None], y[:, None]), axis=1)\n",
    "\n",
    "location = load_data('./neuron.npy')\n"
   ]
  },
  {
   "cell_type": "code",
   "execution_count": 5,
   "metadata": {},
   "outputs": [
    {
     "data": {
      "text/plain": [
       "(583, 2)"
      ]
     },
     "execution_count": 5,
     "metadata": {},
     "output_type": "execute_result"
    }
   ],
   "source": []
  },
  {
   "cell_type": "code",
   "execution_count": 3,
   "metadata": {},
   "outputs": [
    {
     "name": "stdout",
     "output_type": "stream",
     "text": [
      "Iteration limit reached    (Exit mode 9)\n",
      "            Current function value: -15.549852611654327\n",
      "            Iterations: 100\n",
      "            Function evaluations: 1075\n",
      "            Gradient evaluations: 100\n",
      "Iteration limit reached    (Exit mode 9)\n",
      "            Current function value: -15.907980333823165\n",
      "            Iterations: 100\n",
      "            Function evaluations: 1075\n",
      "            Gradient evaluations: 100\n",
      "Iteration limit reached    (Exit mode 9)\n",
      "            Current function value: -15.15560022383588\n",
      "            Iterations: 100\n",
      "            Function evaluations: 1063\n",
      "            Gradient evaluations: 100\n",
      "Iteration limit reached    (Exit mode 9)\n",
      "            Current function value: -14.560581283328968\n",
      "            Iterations: 100\n",
      "            Function evaluations: 1065\n",
      "            Gradient evaluations: 100\n",
      "Iteration limit reached    (Exit mode 9)\n",
      "            Current function value: -12.560541954429677\n",
      "            Iterations: 100\n",
      "            Function evaluations: 1057\n",
      "            Gradient evaluations: 100\n",
      "Iteration limit reached    (Exit mode 9)\n",
      "            Current function value: -14.640839644470065\n",
      "            Iterations: 100\n",
      "            Function evaluations: 1064\n",
      "            Gradient evaluations: 100\n",
      "Iteration limit reached    (Exit mode 9)\n",
      "            Current function value: -15.295462911434676\n",
      "            Iterations: 100\n",
      "            Function evaluations: 1065\n",
      "            Gradient evaluations: 100\n",
      "Iteration limit reached    (Exit mode 9)\n",
      "            Current function value: -15.592741759414094\n",
      "            Iterations: 100\n",
      "            Function evaluations: 1038\n",
      "            Gradient evaluations: 99\n",
      "Iteration limit reached    (Exit mode 9)\n",
      "            Current function value: -14.40386238627643\n",
      "            Iterations: 100\n",
      "            Function evaluations: 1076\n",
      "            Gradient evaluations: 100\n",
      "Iteration limit reached    (Exit mode 9)\n",
      "            Current function value: -16.628974174285453\n",
      "            Iterations: 100\n",
      "            Function evaluations: 1060\n",
      "            Gradient evaluations: 100\n"
     ]
    }
   ],
   "source": [
    "intensity_avg, intensity_max, cov, std = estimate(10, do_visualize=False)"
   ]
  },
  {
   "cell_type": "code",
   "execution_count": 8,
   "metadata": {},
   "outputs": [
    {
     "data": {
      "text/plain": [
       "(30, 20)"
      ]
     },
     "execution_count": 8,
     "metadata": {},
     "output_type": "execute_result"
    }
   ],
   "source": [
    "std.shape"
   ]
  }
 ],
 "metadata": {
  "kernelspec": {
   "display_name": "torch_env",
   "language": "python",
   "name": "python3"
  },
  "language_info": {
   "codemirror_mode": {
    "name": "ipython",
    "version": 3
   },
   "file_extension": ".py",
   "mimetype": "text/x-python",
   "name": "python",
   "nbconvert_exporter": "python",
   "pygments_lexer": "ipython3",
   "version": "3.10.14"
  }
 },
 "nbformat": 4,
 "nbformat_minor": 2
}
